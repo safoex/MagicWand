{
 "cells": [
  {
   "cell_type": "code",
   "execution_count": 1,
   "metadata": {},
   "outputs": [],
   "source": [
    "import re\n",
    "import matplotlib.pyplot as plt\n",
    "import matplotlib as mpl\n",
    "from scipy import signal\n",
    "import fusion\n",
    "import time\n",
    "import numpy as np\n",
    "import sklearn"
   ]
  },
  {
   "cell_type": "code",
   "execution_count": 2,
   "metadata": {},
   "outputs": [],
   "source": [
    "bd = np.load(\"data_for_recognition/accelerometer/big_data.npy\").item()"
   ]
  },
  {
   "cell_type": "code",
   "execution_count": 80,
   "metadata": {},
   "outputs": [
    {
     "data": {
      "text/plain": [
       "209"
      ]
     },
     "execution_count": 80,
     "metadata": {},
     "output_type": "execute_result"
    }
   ],
   "source": [
    "len(bd['accelerometercircle'])"
   ]
  },
  {
   "cell_type": "code",
   "execution_count": 10,
   "metadata": {},
   "outputs": [],
   "source": [
    "from sklearn.linear_model import LogisticRegression, LogisticRegressionCV\n",
    "from sklearn.model_selection import cross_val_score, KFold\n",
    "from sklearn.pipeline import make_pipeline\n",
    "from sklearn.preprocessing import StandardScaler"
   ]
  },
  {
   "cell_type": "code",
   "execution_count": 57,
   "metadata": {},
   "outputs": [],
   "source": [
    "gests = {}\n",
    "X = []\n",
    "y = []\n",
    "for g_id, gest in enumerate(bd.keys()):\n",
    "    gests[gest] = g_id\n",
    "    for gest_sample in bd[gest]:\n",
    "        X.append(((gest_sample - np.average(gest_sample, axis=0))/np.var(gest_sample, axis=0)).flatten())\n",
    "        y.append( g_id )\n",
    "    "
   ]
  },
  {
   "cell_type": "code",
   "execution_count": 58,
   "metadata": {},
   "outputs": [
    {
     "data": {
      "text/plain": [
       "372"
      ]
     },
     "execution_count": 58,
     "metadata": {},
     "output_type": "execute_result"
    }
   ],
   "source": [
    "len(X)"
   ]
  },
  {
   "cell_type": "code",
   "execution_count": 59,
   "metadata": {},
   "outputs": [
    {
     "name": "stdout",
     "output_type": "stream",
     "text": [
      "KFold score: 0.718 ± 0.053\n"
     ]
    }
   ],
   "source": [
    "kfold = KFold(n_splits=10, shuffle=True) # 5-fold CV\n",
    "cv = kfold.split(X, y) # show data & make the split\n",
    "#clf = make_pipeline(StandardScaler(), LogisticRegression())\n",
    "clf = LogisticRegression()\n",
    "scores = cross_val_score(clf, X, y, scoring='accuracy', cv=cv)\n",
    "print('KFold score: {0:.3f} ± {1:.3f}'.format(scores.mean(), scores.std()) )"
   ]
  },
  {
   "cell_type": "code",
   "execution_count": 78,
   "metadata": {},
   "outputs": [
    {
     "name": "stdout",
     "output_type": "stream",
     "text": [
      "KFold score: 0.901 ± 0.041\n"
     ]
    }
   ],
   "source": [
    "from sklearn.svm import SVC\n",
    "kfold = KFold(n_splits=15, shuffle=True)\n",
    "#clf = make_pipeline(StandardScaler(), SVC(kernel='rbf'))\n",
    "clf = SVC(kernel='rbf')\n",
    "scores = cross_val_score(clf, X, y, scoring='accuracy', cv=kfold.split(X, y))\n",
    "print('KFold score: {0:.3f} ± {1:.3f}'.format(scores.mean(), scores.std()) )"
   ]
  },
  {
   "cell_type": "code",
   "execution_count": null,
   "metadata": {},
   "outputs": [],
   "source": []
  }
 ],
 "metadata": {
  "kernelspec": {
   "display_name": "Python 3",
   "language": "python",
   "name": "python3"
  },
  "language_info": {
   "codemirror_mode": {
    "name": "ipython",
    "version": 3
   },
   "file_extension": ".py",
   "mimetype": "text/x-python",
   "name": "python",
   "nbconvert_exporter": "python",
   "pygments_lexer": "ipython3",
   "version": "3.6.1"
  }
 },
 "nbformat": 4,
 "nbformat_minor": 2
}
